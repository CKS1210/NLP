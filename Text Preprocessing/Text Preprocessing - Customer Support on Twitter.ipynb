{
 "cells": [
  {
   "cell_type": "code",
   "execution_count": 1,
   "id": "677c04f4",
   "metadata": {},
   "outputs": [],
   "source": [
    "# import all the necessary libraries\n",
    "import numpy as np\n",
    "import pandas as pd\n",
    "import re\n",
    "import nltk\n",
    "import spacy\n",
    "import string\n",
    "\n",
    "pd.options.mode.chained_assignment = None    #allowing you to modify a DataFrame derived from another one without receiving the warning. "
   ]
  },
  {
   "cell_type": "code",
   "execution_count": 2,
   "id": "d3d2ff61",
   "metadata": {},
   "outputs": [
    {
     "name": "stdout",
     "output_type": "stream",
     "text": [
      "   tweet_id     author_id  inbound                      created_at  \\\n",
      "0    119237        105834     True  Wed Oct 11 06:55:44 +0000 2017   \n",
      "1    119238  ChaseSupport    False  Wed Oct 11 13:25:49 +0000 2017   \n",
      "2    119239        105835     True  Wed Oct 11 13:00:09 +0000 2017   \n",
      "3    119240  VirginTrains    False  Tue Oct 10 15:16:08 +0000 2017   \n",
      "4    119241        105836     True  Tue Oct 10 15:17:21 +0000 2017   \n",
      "\n",
      "                                                text response_tweet_id  \\\n",
      "0  @AppleSupport causing the reply to be disregar...            119236   \n",
      "1  @105835 Your business means a lot to us. Pleas...               NaN   \n",
      "2  @76328 I really hope you all change but I'm su...            119238   \n",
      "3  @105836 LiveChat is online at the moment - htt...            119241   \n",
      "4  @VirginTrains see attached error message. I've...            119243   \n",
      "\n",
      "   in_response_to_tweet_id  \n",
      "0                      NaN  \n",
      "1                 119239.0  \n",
      "2                      NaN  \n",
      "3                 119242.0  \n",
      "4                 119240.0  \n"
     ]
    }
   ],
   "source": [
    "full_df = pd.read_csv(\"sample.csv\")\n",
    "print(full_df.head())"
   ]
  },
  {
   "cell_type": "code",
   "execution_count": 3,
   "id": "7645c66c",
   "metadata": {},
   "outputs": [
    {
     "name": "stdout",
     "output_type": "stream",
     "text": [
      "<class 'pandas.core.frame.DataFrame'>\n",
      "RangeIndex: 93 entries, 0 to 92\n",
      "Data columns (total 7 columns):\n",
      " #   Column                   Non-Null Count  Dtype  \n",
      "---  ------                   --------------  -----  \n",
      " 0   tweet_id                 93 non-null     int64  \n",
      " 1   author_id                93 non-null     object \n",
      " 2   inbound                  93 non-null     bool   \n",
      " 3   created_at               93 non-null     object \n",
      " 4   text                     93 non-null     object \n",
      " 5   response_tweet_id        65 non-null     object \n",
      " 6   in_response_to_tweet_id  68 non-null     float64\n",
      "dtypes: bool(1), float64(1), int64(1), object(4)\n",
      "memory usage: 4.6+ KB\n"
     ]
    }
   ],
   "source": [
    "full_df.info()"
   ]
  },
  {
   "cell_type": "code",
   "execution_count": 4,
   "id": "ab5d531e",
   "metadata": {},
   "outputs": [
    {
     "data": {
      "text/plain": [
       "(93, 7)"
      ]
     },
     "execution_count": 4,
     "metadata": {},
     "output_type": "execute_result"
    }
   ],
   "source": [
    "full_df.shape"
   ]
  },
  {
   "cell_type": "code",
   "execution_count": 5,
   "id": "a04185fe",
   "metadata": {
    "scrolled": true
   },
   "outputs": [
    {
     "name": "stdout",
     "output_type": "stream",
     "text": [
      "<class 'pandas.core.frame.DataFrame'>\n",
      "RangeIndex: 93 entries, 0 to 92\n",
      "Data columns (total 7 columns):\n",
      " #   Column                   Non-Null Count  Dtype  \n",
      "---  ------                   --------------  -----  \n",
      " 0   tweet_id                 93 non-null     int64  \n",
      " 1   author_id                93 non-null     object \n",
      " 2   inbound                  93 non-null     bool   \n",
      " 3   created_at               93 non-null     object \n",
      " 4   text                     93 non-null     object \n",
      " 5   response_tweet_id        65 non-null     object \n",
      " 6   in_response_to_tweet_id  68 non-null     float64\n",
      "dtypes: bool(1), float64(1), int64(1), object(4)\n",
      "memory usage: 4.6+ KB\n"
     ]
    }
   ],
   "source": [
    "full_df.info()"
   ]
  },
  {
   "cell_type": "code",
   "execution_count": 6,
   "id": "9482019b",
   "metadata": {},
   "outputs": [
    {
     "name": "stdout",
     "output_type": "stream",
     "text": [
      "                                                text\n",
      "0  @AppleSupport causing the reply to be disregar...\n",
      "1  @105835 Your business means a lot to us. Pleas...\n",
      "2  @76328 I really hope you all change but I'm su...\n",
      "3  @105836 LiveChat is online at the moment - htt...\n",
      "4  @VirginTrains see attached error message. I've...\n"
     ]
    }
   ],
   "source": [
    "# Convert the Dtype of text column to string\n",
    "df = full_df[[\"text\"]]\n",
    "df[\"text\"] = df[\"text\"].astype(str)\n",
    "print(df.head())"
   ]
  },
  {
   "cell_type": "markdown",
   "id": "83304133",
   "metadata": {},
   "source": [
    "## Text Preprocessing\n",
    "### Lower Casing"
   ]
  },
  {
   "cell_type": "code",
   "execution_count": 7,
   "id": "e14e488c",
   "metadata": {},
   "outputs": [
    {
     "data": {
      "text/html": [
       "<div>\n",
       "<style scoped>\n",
       "    .dataframe tbody tr th:only-of-type {\n",
       "        vertical-align: middle;\n",
       "    }\n",
       "\n",
       "    .dataframe tbody tr th {\n",
       "        vertical-align: top;\n",
       "    }\n",
       "\n",
       "    .dataframe thead th {\n",
       "        text-align: right;\n",
       "    }\n",
       "</style>\n",
       "<table border=\"1\" class=\"dataframe\">\n",
       "  <thead>\n",
       "    <tr style=\"text-align: right;\">\n",
       "      <th></th>\n",
       "      <th>text</th>\n",
       "      <th>text_lower</th>\n",
       "    </tr>\n",
       "  </thead>\n",
       "  <tbody>\n",
       "    <tr>\n",
       "      <th>0</th>\n",
       "      <td>@AppleSupport causing the reply to be disregar...</td>\n",
       "      <td>@applesupport causing the reply to be disregar...</td>\n",
       "    </tr>\n",
       "    <tr>\n",
       "      <th>1</th>\n",
       "      <td>@105835 Your business means a lot to us. Pleas...</td>\n",
       "      <td>@105835 your business means a lot to us. pleas...</td>\n",
       "    </tr>\n",
       "    <tr>\n",
       "      <th>2</th>\n",
       "      <td>@76328 I really hope you all change but I'm su...</td>\n",
       "      <td>@76328 i really hope you all change but i'm su...</td>\n",
       "    </tr>\n",
       "    <tr>\n",
       "      <th>3</th>\n",
       "      <td>@105836 LiveChat is online at the moment - htt...</td>\n",
       "      <td>@105836 livechat is online at the moment - htt...</td>\n",
       "    </tr>\n",
       "    <tr>\n",
       "      <th>4</th>\n",
       "      <td>@VirginTrains see attached error message. I've...</td>\n",
       "      <td>@virgintrains see attached error message. i've...</td>\n",
       "    </tr>\n",
       "  </tbody>\n",
       "</table>\n",
       "</div>"
      ],
      "text/plain": [
       "                                                text  \\\n",
       "0  @AppleSupport causing the reply to be disregar...   \n",
       "1  @105835 Your business means a lot to us. Pleas...   \n",
       "2  @76328 I really hope you all change but I'm su...   \n",
       "3  @105836 LiveChat is online at the moment - htt...   \n",
       "4  @VirginTrains see attached error message. I've...   \n",
       "\n",
       "                                          text_lower  \n",
       "0  @applesupport causing the reply to be disregar...  \n",
       "1  @105835 your business means a lot to us. pleas...  \n",
       "2  @76328 i really hope you all change but i'm su...  \n",
       "3  @105836 livechat is online at the moment - htt...  \n",
       "4  @virgintrains see attached error message. i've...  "
      ]
     },
     "execution_count": 7,
     "metadata": {},
     "output_type": "execute_result"
    }
   ],
   "source": [
    "df['text_lower'] = df['text'].str.lower()\n",
    "df.head()"
   ]
  },
  {
   "cell_type": "markdown",
   "id": "11eff128",
   "metadata": {},
   "source": [
    "### Removal of the punctuation\n",
    "Example of punctuation: **!\"#$%&\\'()*+,-./:;<=>?@[\\\\]^_{|}~`**"
   ]
  },
  {
   "cell_type": "code",
   "execution_count": 8,
   "id": "b0f06d0b",
   "metadata": {},
   "outputs": [
    {
     "name": "stdout",
     "output_type": "stream",
     "text": [
      "                                                text  \\\n",
      "0  @AppleSupport causing the reply to be disregar...   \n",
      "1  @105835 Your business means a lot to us. Pleas...   \n",
      "2  @76328 I really hope you all change but I'm su...   \n",
      "3  @105836 LiveChat is online at the moment - htt...   \n",
      "4  @VirginTrains see attached error message. I've...   \n",
      "\n",
      "                                          text_lower  \\\n",
      "0  @applesupport causing the reply to be disregar...   \n",
      "1  @105835 your business means a lot to us. pleas...   \n",
      "2  @76328 i really hope you all change but i'm su...   \n",
      "3  @105836 livechat is online at the moment - htt...   \n",
      "4  @virgintrains see attached error message. i've...   \n",
      "\n",
      "                                       text_wo_punct  \n",
      "0  applesupport causing the reply to be disregard...  \n",
      "1  105835 your business means a lot to us please ...  \n",
      "2  76328 i really hope you all change but im sure...  \n",
      "3  105836 livechat is online at the moment  https...  \n",
      "4  virgintrains see attached error message ive tr...  \n"
     ]
    }
   ],
   "source": [
    "PUNCT_to_remove = string.punctuation\n",
    "\n",
    "# custom function to remove punctuation\n",
    "def remove_punctuation(text):\n",
    "    return text.translate(str.maketrans(\"\",\"\",PUNCT_to_remove))\n",
    "\n",
    "df[\"text_wo_punct\"] = df[\"text_lower\"].apply(lambda text: remove_punctuation(text))\n",
    "print(df.head())"
   ]
  },
  {
   "cell_type": "markdown",
   "id": "c1998c10",
   "metadata": {},
   "source": [
    "### Remove stopwords"
   ]
  },
  {
   "cell_type": "code",
   "execution_count": 9,
   "id": "2d75f5e1",
   "metadata": {},
   "outputs": [
    {
     "data": {
      "text/plain": [
       "\"i, me, my, myself, we, our, ours, ourselves, you, you're, you've, you'll, you'd, your, yours, yourself, yourselves, he, him, his, himself, she, she's, her, hers, herself, it, it's, its, itself, they, them, their, theirs, themselves, what, which, who, whom, this, that, that'll, these, those, am, is, are, was, were, be, been, being, have, has, had, having, do, does, did, doing, a, an, the, and, but, if, or, because, as, until, while, of, at, by, for, with, about, against, between, into, through, during, before, after, above, below, to, from, up, down, in, out, on, off, over, under, again, further, then, once, here, there, when, where, why, how, all, any, both, each, few, more, most, other, some, such, no, nor, not, only, own, same, so, than, too, very, s, t, can, will, just, don, don't, should, should've, now, d, ll, m, o, re, ve, y, ain, aren, aren't, couldn, couldn't, didn, didn't, doesn, doesn't, hadn, hadn't, hasn, hasn't, haven, haven't, isn, isn't, ma, mightn, mightn't, mustn, mustn't, needn, needn't, shan, shan't, shouldn, shouldn't, wasn, wasn't, weren, weren't, won, won't, wouldn, wouldn't\""
      ]
     },
     "execution_count": 9,
     "metadata": {},
     "output_type": "execute_result"
    }
   ],
   "source": [
    "from nltk.corpus import stopwords\n",
    "\", \".join(stopwords.words('english'))"
   ]
  },
  {
   "cell_type": "code",
   "execution_count": 10,
   "id": "585e69e8",
   "metadata": {},
   "outputs": [
    {
     "name": "stdout",
     "output_type": "stream",
     "text": [
      "                                                text  \\\n",
      "0  @AppleSupport causing the reply to be disregar...   \n",
      "1  @105835 Your business means a lot to us. Pleas...   \n",
      "2  @76328 I really hope you all change but I'm su...   \n",
      "3  @105836 LiveChat is online at the moment - htt...   \n",
      "4  @VirginTrains see attached error message. I've...   \n",
      "\n",
      "                                          text_lower  \\\n",
      "0  @applesupport causing the reply to be disregar...   \n",
      "1  @105835 your business means a lot to us. pleas...   \n",
      "2  @76328 i really hope you all change but i'm su...   \n",
      "3  @105836 livechat is online at the moment - htt...   \n",
      "4  @virgintrains see attached error message. i've...   \n",
      "\n",
      "                                       text_wo_punct  \\\n",
      "0  applesupport causing the reply to be disregard...   \n",
      "1  105835 your business means a lot to us please ...   \n",
      "2  76328 i really hope you all change but im sure...   \n",
      "3  105836 livechat is online at the moment  https...   \n",
      "4  virgintrains see attached error message ive tr...   \n",
      "\n",
      "                                          text_wo_sw  \n",
      "0  applesupport causing reply disregarded tapped ...  \n",
      "1  105835 business means lot us please dm name zi...  \n",
      "2         76328 really hope change im sure wont dont  \n",
      "3  105836 livechat online moment httpstcosy94vtu8...  \n",
      "4  virgintrains see attached error message ive tr...  \n"
     ]
    }
   ],
   "source": [
    "STOPWORDS = set(stopwords.words('english'))\n",
    "\n",
    "# Custom functions to remove stopwords\n",
    "def remove_stopwords(text):\n",
    "    return \" \".join([word for word in str(text).split() if word not in STOPWORDS])\n",
    "\n",
    "df[\"text_wo_sw\"] = df[\"text_wo_punct\"].apply(lambda text: remove_stopwords(text))\n",
    "print(df.head())"
   ]
  },
  {
   "cell_type": "markdown",
   "id": "ab3a42b9",
   "metadata": {},
   "source": [
    "### Removal of Frequent words"
   ]
  },
  {
   "cell_type": "code",
   "execution_count": 11,
   "id": "f877dc9f",
   "metadata": {},
   "outputs": [
    {
     "data": {
      "text/plain": [
       "[('us', 25),\n",
       " ('dm', 19),\n",
       " ('help', 18),\n",
       " ('thanks', 13),\n",
       " ('httpstcogdrqu22ypt', 12),\n",
       " ('applesupport', 11),\n",
       " ('please', 11),\n",
       " ('phone', 9),\n",
       " ('hi', 9),\n",
       " ('ive', 8)]"
      ]
     },
     "execution_count": 11,
     "metadata": {},
     "output_type": "execute_result"
    }
   ],
   "source": [
    "# Let's find out the most common words in the corpus\n",
    "from collections import Counter\n",
    "cnt = Counter()\n",
    "for text in df['text_wo_sw'].values:\n",
    "    for word in text.split():\n",
    "        cnt[word] += 1\n",
    "        \n",
    "cnt.most_common(10)"
   ]
  },
  {
   "cell_type": "code",
   "execution_count": 12,
   "id": "e8faf118",
   "metadata": {},
   "outputs": [
    {
     "name": "stdout",
     "output_type": "stream",
     "text": [
      "                                                text  \\\n",
      "0  @AppleSupport causing the reply to be disregar...   \n",
      "1  @105835 Your business means a lot to us. Pleas...   \n",
      "2  @76328 I really hope you all change but I'm su...   \n",
      "3  @105836 LiveChat is online at the moment - htt...   \n",
      "4  @VirginTrains see attached error message. I've...   \n",
      "\n",
      "                                          text_lower  \\\n",
      "0  @applesupport causing the reply to be disregar...   \n",
      "1  @105835 your business means a lot to us. pleas...   \n",
      "2  @76328 i really hope you all change but i'm su...   \n",
      "3  @105836 livechat is online at the moment - htt...   \n",
      "4  @virgintrains see attached error message. i've...   \n",
      "\n",
      "                                       text_wo_punct  \\\n",
      "0  applesupport causing the reply to be disregard...   \n",
      "1  105835 your business means a lot to us please ...   \n",
      "2  76328 i really hope you all change but im sure...   \n",
      "3  105836 livechat is online at the moment  https...   \n",
      "4  virgintrains see attached error message ive tr...   \n",
      "\n",
      "                                          text_wo_sw  \\\n",
      "0  applesupport causing reply disregarded tapped ...   \n",
      "1  105835 business means lot us please dm name zi...   \n",
      "2         76328 really hope change im sure wont dont   \n",
      "3  105836 livechat online moment httpstcosy94vtu8...   \n",
      "4  virgintrains see attached error message ive tr...   \n",
      "\n",
      "                                          text_wo_FW  \n",
      "0  causing reply disregarded tapped notification ...  \n",
      "1  105835 business means lot name zip code additi...  \n",
      "2         76328 really hope change im sure wont dont  \n",
      "3  105836 livechat online moment httpstcosy94vtu8...  \n",
      "4  virgintrains see attached error message tried ...  \n"
     ]
    }
   ],
   "source": [
    "FREQWORD = set([w for (w,wc) in cnt.most_common(10)])\n",
    "\n",
    "# Custom functions to remove frequent words\n",
    "def remove_stopwords(text):\n",
    "    return \" \".join([word for word in str(text).split() if word not in FREQWORD])\n",
    "\n",
    "df[\"text_wo_FW\"] = df[\"text_wo_sw\"].apply(lambda text: remove_stopwords(text))\n",
    "print(df.head())"
   ]
  },
  {
   "cell_type": "markdown",
   "id": "2b4507c3",
   "metadata": {},
   "source": [
    "### Removal of Rare Words"
   ]
  },
  {
   "cell_type": "code",
   "execution_count": 13,
   "id": "79ac4b16",
   "metadata": {},
   "outputs": [
    {
     "name": "stdout",
     "output_type": "stream",
     "text": [
      "                                                text  \\\n",
      "0  @AppleSupport causing the reply to be disregar...   \n",
      "1  @105835 Your business means a lot to us. Pleas...   \n",
      "2  @76328 I really hope you all change but I'm su...   \n",
      "3  @105836 LiveChat is online at the moment - htt...   \n",
      "4  @VirginTrains see attached error message. I've...   \n",
      "\n",
      "                                          text_lower  \\\n",
      "0  @applesupport causing the reply to be disregar...   \n",
      "1  @105835 your business means a lot to us. pleas...   \n",
      "2  @76328 i really hope you all change but i'm su...   \n",
      "3  @105836 livechat is online at the moment - htt...   \n",
      "4  @virgintrains see attached error message. i've...   \n",
      "\n",
      "                                       text_wo_punct  \\\n",
      "0  applesupport causing the reply to be disregard...   \n",
      "1  105835 your business means a lot to us please ...   \n",
      "2  76328 i really hope you all change but im sure...   \n",
      "3  105836 livechat is online at the moment  https...   \n",
      "4  virgintrains see attached error message ive tr...   \n",
      "\n",
      "                                          text_wo_sw  \\\n",
      "0  applesupport causing reply disregarded tapped ...   \n",
      "1  105835 business means lot us please dm name zi...   \n",
      "2         76328 really hope change im sure wont dont   \n",
      "3  105836 livechat online moment httpstcosy94vtu8...   \n",
      "4  virgintrains see attached error message ive tr...   \n",
      "\n",
      "                                          text_wo_FW  \\\n",
      "0  causing reply disregarded tapped notification ...   \n",
      "1  105835 business means lot name zip code additi...   \n",
      "2         76328 really hope change im sure wont dont   \n",
      "3  105836 livechat online moment httpstcosy94vtu8...   \n",
      "4  virgintrains see attached error message tried ...   \n",
      "\n",
      "                                          text_wo_RW  \n",
      "0  causing reply disregarded tapped notification ...  \n",
      "1  105835 business means lot name zip code additi...  \n",
      "2         76328 really hope change im sure wont dont  \n",
      "3  105836 livechat online moment httpstcosy94vtu8...  \n",
      "4  virgintrains see attached error message tried ...  \n"
     ]
    }
   ],
   "source": [
    "# [:-n_rare_words-1] means to slice from the beginning of the list (0 index) up to the index that is n_rare_words items \n",
    "# The -1 is used because slicing in Python is exclusive on the upper bound, meaning the end index is not included in the slice.\n",
    "# So, [:-n_rare_words-1] gets the list from the start up to the last n_rare_words items in the list.\n",
    "# [::-1] The -1 step means to iterate the list in reverse order. So, [::-1] reverses the sliced list.\n",
    "\n",
    "n_rare_words = 10 \n",
    "RAREWORDS = set([w for (w,wc) in cnt.most_common()[:-n_rare_words-1:-1]])\n",
    "\n",
    "# Custom functions to remove rare words\n",
    "def remove_rarewords(text):\n",
    "    return \" \".join([word for word in str(text).split() if word not in RAREWORDS])\n",
    "\n",
    "df[\"text_wo_RW\"] = df[\"text_wo_FW\"].apply(lambda text: remove_rarewords(text))\n",
    "print(df.head())"
   ]
  },
  {
   "cell_type": "code",
   "execution_count": 14,
   "id": "5fe8d9d1",
   "metadata": {},
   "outputs": [
    {
     "name": "stdout",
     "output_type": "stream",
     "text": [
      "{'httpstco9281okeebk', 'including', 'log', 'thin', 'browser', 'green', 'keen', 'lee', 'slowdown', 'line'}\n"
     ]
    }
   ],
   "source": [
    "print(RAREWORDS)"
   ]
  },
  {
   "cell_type": "markdown",
   "id": "32fbab37",
   "metadata": {},
   "source": [
    "### Stemming\n",
    "Stemming is the text preprocessing normalization task concerned with bluntly removing word affixes (prefixes and suffixes)."
   ]
  },
  {
   "cell_type": "code",
   "execution_count": 15,
   "id": "9d0d1494",
   "metadata": {},
   "outputs": [
    {
     "data": {
      "text/html": [
       "<div>\n",
       "<style scoped>\n",
       "    .dataframe tbody tr th:only-of-type {\n",
       "        vertical-align: middle;\n",
       "    }\n",
       "\n",
       "    .dataframe tbody tr th {\n",
       "        vertical-align: top;\n",
       "    }\n",
       "\n",
       "    .dataframe thead th {\n",
       "        text-align: right;\n",
       "    }\n",
       "</style>\n",
       "<table border=\"1\" class=\"dataframe\">\n",
       "  <thead>\n",
       "    <tr style=\"text-align: right;\">\n",
       "      <th></th>\n",
       "      <th>text</th>\n",
       "      <th>text_lower</th>\n",
       "      <th>text_wo_punct</th>\n",
       "      <th>text_wo_sw</th>\n",
       "      <th>text_wo_FW</th>\n",
       "      <th>text_wo_RW</th>\n",
       "      <th>text_stem</th>\n",
       "    </tr>\n",
       "  </thead>\n",
       "  <tbody>\n",
       "    <tr>\n",
       "      <th>0</th>\n",
       "      <td>@AppleSupport causing the reply to be disregar...</td>\n",
       "      <td>@applesupport causing the reply to be disregar...</td>\n",
       "      <td>applesupport causing the reply to be disregard...</td>\n",
       "      <td>applesupport causing reply disregarded tapped ...</td>\n",
       "      <td>causing reply disregarded tapped notification ...</td>\n",
       "      <td>causing reply disregarded tapped notification ...</td>\n",
       "      <td>caus repli disregard tap notif keyboard opened😡😡😡</td>\n",
       "    </tr>\n",
       "    <tr>\n",
       "      <th>1</th>\n",
       "      <td>@105835 Your business means a lot to us. Pleas...</td>\n",
       "      <td>@105835 your business means a lot to us. pleas...</td>\n",
       "      <td>105835 your business means a lot to us please ...</td>\n",
       "      <td>105835 business means lot us please dm name zi...</td>\n",
       "      <td>105835 business means lot name zip code additi...</td>\n",
       "      <td>105835 business means lot name zip code additi...</td>\n",
       "      <td>105835 busi mean lot name zip code addit detai...</td>\n",
       "    </tr>\n",
       "    <tr>\n",
       "      <th>2</th>\n",
       "      <td>@76328 I really hope you all change but I'm su...</td>\n",
       "      <td>@76328 i really hope you all change but i'm su...</td>\n",
       "      <td>76328 i really hope you all change but im sure...</td>\n",
       "      <td>76328 really hope change im sure wont dont</td>\n",
       "      <td>76328 really hope change im sure wont dont</td>\n",
       "      <td>76328 really hope change im sure wont dont</td>\n",
       "      <td>76328 realli hope chang im sure wont dont</td>\n",
       "    </tr>\n",
       "    <tr>\n",
       "      <th>3</th>\n",
       "      <td>@105836 LiveChat is online at the moment - htt...</td>\n",
       "      <td>@105836 livechat is online at the moment - htt...</td>\n",
       "      <td>105836 livechat is online at the moment  https...</td>\n",
       "      <td>105836 livechat online moment httpstcosy94vtu8...</td>\n",
       "      <td>105836 livechat online moment httpstcosy94vtu8...</td>\n",
       "      <td>105836 livechat online moment httpstcosy94vtu8...</td>\n",
       "      <td>105836 livechat onlin moment httpstcosy94vtu8k...</td>\n",
       "    </tr>\n",
       "    <tr>\n",
       "      <th>4</th>\n",
       "      <td>@VirginTrains see attached error message. I've...</td>\n",
       "      <td>@virgintrains see attached error message. i've...</td>\n",
       "      <td>virgintrains see attached error message ive tr...</td>\n",
       "      <td>virgintrains see attached error message ive tr...</td>\n",
       "      <td>virgintrains see attached error message tried ...</td>\n",
       "      <td>virgintrains see attached error message tried ...</td>\n",
       "      <td>virgintrain see attach error messag tri leav v...</td>\n",
       "    </tr>\n",
       "  </tbody>\n",
       "</table>\n",
       "</div>"
      ],
      "text/plain": [
       "                                                text  \\\n",
       "0  @AppleSupport causing the reply to be disregar...   \n",
       "1  @105835 Your business means a lot to us. Pleas...   \n",
       "2  @76328 I really hope you all change but I'm su...   \n",
       "3  @105836 LiveChat is online at the moment - htt...   \n",
       "4  @VirginTrains see attached error message. I've...   \n",
       "\n",
       "                                          text_lower  \\\n",
       "0  @applesupport causing the reply to be disregar...   \n",
       "1  @105835 your business means a lot to us. pleas...   \n",
       "2  @76328 i really hope you all change but i'm su...   \n",
       "3  @105836 livechat is online at the moment - htt...   \n",
       "4  @virgintrains see attached error message. i've...   \n",
       "\n",
       "                                       text_wo_punct  \\\n",
       "0  applesupport causing the reply to be disregard...   \n",
       "1  105835 your business means a lot to us please ...   \n",
       "2  76328 i really hope you all change but im sure...   \n",
       "3  105836 livechat is online at the moment  https...   \n",
       "4  virgintrains see attached error message ive tr...   \n",
       "\n",
       "                                          text_wo_sw  \\\n",
       "0  applesupport causing reply disregarded tapped ...   \n",
       "1  105835 business means lot us please dm name zi...   \n",
       "2         76328 really hope change im sure wont dont   \n",
       "3  105836 livechat online moment httpstcosy94vtu8...   \n",
       "4  virgintrains see attached error message ive tr...   \n",
       "\n",
       "                                          text_wo_FW  \\\n",
       "0  causing reply disregarded tapped notification ...   \n",
       "1  105835 business means lot name zip code additi...   \n",
       "2         76328 really hope change im sure wont dont   \n",
       "3  105836 livechat online moment httpstcosy94vtu8...   \n",
       "4  virgintrains see attached error message tried ...   \n",
       "\n",
       "                                          text_wo_RW  \\\n",
       "0  causing reply disregarded tapped notification ...   \n",
       "1  105835 business means lot name zip code additi...   \n",
       "2         76328 really hope change im sure wont dont   \n",
       "3  105836 livechat online moment httpstcosy94vtu8...   \n",
       "4  virgintrains see attached error message tried ...   \n",
       "\n",
       "                                           text_stem  \n",
       "0  caus repli disregard tap notif keyboard opened😡😡😡  \n",
       "1  105835 busi mean lot name zip code addit detai...  \n",
       "2          76328 realli hope chang im sure wont dont  \n",
       "3  105836 livechat onlin moment httpstcosy94vtu8k...  \n",
       "4  virgintrain see attach error messag tri leav v...  "
      ]
     },
     "execution_count": 15,
     "metadata": {},
     "output_type": "execute_result"
    }
   ],
   "source": [
    "from nltk.stem.porter import PorterStemmer\n",
    "\n",
    "stemmer = PorterStemmer()\n",
    "\n",
    "def stem_words(text):\n",
    "    return \" \".join([stemmer.stem(word) for word in text.split()])\n",
    "\n",
    "df[\"text_stem\"] = df[\"text_wo_RW\"].apply(lambda text: stem_words(text))\n",
    "df.head()"
   ]
  },
  {
   "cell_type": "markdown",
   "id": "5d216ba4",
   "metadata": {},
   "source": [
    "We can notice that words like cause, reply and notification has been chopped due to the stemming. This is not intended. Hence, we can use Lemmatization in such cases"
   ]
  },
  {
   "cell_type": "code",
   "execution_count": 16,
   "id": "879901e2",
   "metadata": {},
   "outputs": [],
   "source": [
    "# Remove the columns\n",
    "df.drop([\"text_lower\",\"text_wo_punct\",\"text_wo_sw\", \"text_wo_FW\"], axis=1, inplace=True)"
   ]
  },
  {
   "cell_type": "markdown",
   "id": "5db56d76",
   "metadata": {},
   "source": [
    "### Lemmatization"
   ]
  },
  {
   "cell_type": "code",
   "execution_count": 17,
   "id": "bdc80b51",
   "metadata": {},
   "outputs": [],
   "source": [
    "from nltk.corpus import wordnet\n",
    "from collections import Counter\n",
    "from nltk.stem import WordNetLemmatizer\n",
    "\n",
    "def get_part_of_speech(text):\n",
    "    probable_part_of_speech = wordnet.synsets(text)\n",
    "    \n",
    "    pos_counts = Counter()\n",
    "    \n",
    "    pos_counts['n'] = len([item for item in probable_part_of_speech if item.pos() == \"n\"])\n",
    "    pos_counts['v'] = len([item for item in probable_part_of_speech if item.pos() == \"v\"])\n",
    "    pos_counts['a'] = len([item for item in probable_part_of_speech if item.pos() == \"a\"])\n",
    "    pos_counts['r'] = len([item for item in probable_part_of_speech if item.pos() == \"r\"])\n",
    "    \n",
    "    most_likely_part_of_speech =  pos_counts.most_common(1)[0][0]\n",
    "    return most_likely_part_of_speech"
   ]
  },
  {
   "cell_type": "code",
   "execution_count": 18,
   "id": "437ab079",
   "metadata": {},
   "outputs": [
    {
     "name": "stdout",
     "output_type": "stream",
     "text": [
      "                                                text  \\\n",
      "0  @AppleSupport causing the reply to be disregar...   \n",
      "1  @105835 Your business means a lot to us. Pleas...   \n",
      "2  @76328 I really hope you all change but I'm su...   \n",
      "3  @105836 LiveChat is online at the moment - htt...   \n",
      "4  @VirginTrains see attached error message. I've...   \n",
      "\n",
      "                                          text_wo_RW  \\\n",
      "0  causing reply disregarded tapped notification ...   \n",
      "1  105835 business means lot name zip code additi...   \n",
      "2         76328 really hope change im sure wont dont   \n",
      "3  105836 livechat online moment httpstcosy94vtu8...   \n",
      "4  virgintrains see attached error message tried ...   \n",
      "\n",
      "                                           text_stem  \\\n",
      "0  caus repli disregard tap notif keyboard opened😡😡😡   \n",
      "1  105835 busi mean lot name zip code addit detai...   \n",
      "2          76328 realli hope chang im sure wont dont   \n",
      "3  105836 livechat onlin moment httpstcosy94vtu8k...   \n",
      "4  virgintrain see attach error messag tri leav v...   \n",
      "\n",
      "                                            text_lem  \n",
      "0  cause reply disregard tap notification keyboar...  \n",
      "1  105835 business mean lot name zip code additio...  \n",
      "2         76328 really hope change im sure wont dont  \n",
      "3  105836 livechat online moment httpstcosy94vtu8...  \n",
      "4  virgintrains see attach error message try leav...  \n"
     ]
    }
   ],
   "source": [
    "lemmatizer = WordNetLemmatizer()\n",
    "\n",
    "def lemmatize_words(text):\n",
    "    return \" \".join([lemmatizer.lemmatize(word, get_part_of_speech(word)) for word in text.split()])\n",
    "\n",
    "df[\"text_lem\"] = df[\"text_wo_RW\"].apply(lambda text: lemmatize_words(text))\n",
    "print(df.head())"
   ]
  },
  {
   "cell_type": "code",
   "execution_count": 19,
   "id": "c5d4ea4c",
   "metadata": {
    "scrolled": true
   },
   "outputs": [
    {
     "name": "stdout",
     "output_type": "stream",
     "text": [
      "cause reply disregard tap notification keyboard opened😡😡😡\n"
     ]
    }
   ],
   "source": [
    "print(df[\"text_lem\"].iloc[0])"
   ]
  },
  {
   "cell_type": "markdown",
   "id": "388d2c80",
   "metadata": {},
   "source": [
    "We can see that **`causing`** is cast to cause, **`tapped`** is cast to tap, **`means`** is cast to mean, **`notification`** is remain as notification.\n",
    "\n",
    "We can notice that there is emoji in the text. Hence, let's remove emoji from the text"
   ]
  },
  {
   "cell_type": "markdown",
   "id": "4d0d08d8",
   "metadata": {},
   "source": [
    "### Removal of Emojis"
   ]
  },
  {
   "cell_type": "code",
   "execution_count": 20,
   "id": "9bbc8ff9",
   "metadata": {},
   "outputs": [],
   "source": [
    "## Referal: https://gist.github.com/slowkow/7a7f61f495e3dbb7e3d767f97bd7304b\n",
    "\n",
    "def remove_emoji(string):\n",
    "    emoji_pattern = re.compile(\"[\"\n",
    "                           u\"\\U0001F600-\\U0001F64F\"  # emoticons\n",
    "                           u\"\\U0001F300-\\U0001F5FF\"  # symbols & pictographs\n",
    "                           u\"\\U0001F680-\\U0001F6FF\"  # transport & map symbols\n",
    "                           u\"\\U0001F1E0-\\U0001F1FF\"  # flags (iOS)\n",
    "                           u\"\\U00002702-\\U000027B0\"\n",
    "                           u\"\\U000024C2-\\U0001F251\"\n",
    "                           \"]+\", flags=re.UNICODE)\n",
    "    return emoji_pattern.sub(r'', string)"
   ]
  },
  {
   "cell_type": "code",
   "execution_count": 21,
   "id": "67394866",
   "metadata": {},
   "outputs": [
    {
     "data": {
      "text/plain": [
       "'game is on '"
      ]
     },
     "execution_count": 21,
     "metadata": {},
     "output_type": "execute_result"
    }
   ],
   "source": [
    "remove_emoji(\"game is on 🔥🔥\")"
   ]
  },
  {
   "cell_type": "markdown",
   "id": "d03909da",
   "metadata": {},
   "source": [
    "### Removal of Emoticons\n",
    "From Grammarist.com, emoticon is built from keyboard characters that when put together in a certain way represent a facial expression, an emoji is an actual image.\n",
    "\n",
    ":-) is an emoticon\n",
    "\n",
    "😀 is an emoji"
   ]
  },
  {
   "cell_type": "code",
   "execution_count": 22,
   "id": "e27fbc0a",
   "metadata": {},
   "outputs": [],
   "source": [
    "from emoticons import EMOTICONS"
   ]
  },
  {
   "cell_type": "code",
   "execution_count": 23,
   "id": "696379b8",
   "metadata": {},
   "outputs": [
    {
     "data": {
      "text/plain": [
       "'Hello '"
      ]
     },
     "execution_count": 23,
     "metadata": {},
     "output_type": "execute_result"
    }
   ],
   "source": [
    "def remove_emoticons(text):\n",
    "    emoticon_pattern = re.compile(u'(' + u'|'.join(k for k in EMOTICONS) + u')')\n",
    "    return emoticon_pattern.sub(r'', text)\n",
    "\n",
    "remove_emoticons(\"Hello :-)\")"
   ]
  },
  {
   "cell_type": "markdown",
   "id": "ece168ba",
   "metadata": {},
   "source": [
    "Instead of removing the Emoji and Emoticons, which might lose some valuable information when doing sentimental analysis.\n",
    "Hence, there is another better option which is to convert Emoji and Emoticons to words"
   ]
  },
  {
   "cell_type": "markdown",
   "id": "9bbaaf5c",
   "metadata": {},
   "source": [
    "### Conversion of Emoticon to Words"
   ]
  },
  {
   "cell_type": "code",
   "execution_count": 24,
   "id": "03802f9b",
   "metadata": {},
   "outputs": [],
   "source": [
    "def convert_emoticons(text):\n",
    "    for emot in EMOTICONS:\n",
    "        text = re.sub(u'('+emot+')', \"_\".join(EMOTICONS[emot].replace(\",\",\"\").split()), text)\n",
    "    return text"
   ]
  },
  {
   "cell_type": "code",
   "execution_count": 25,
   "id": "912deec1",
   "metadata": {},
   "outputs": [
    {
     "data": {
      "text/plain": [
       "'Hello Happy_face_smiley Happy_face_smiley'"
      ]
     },
     "execution_count": 25,
     "metadata": {},
     "output_type": "execute_result"
    }
   ],
   "source": [
    "text = \"Hello :-) :-)\"\n",
    "convert_emoticons(text)"
   ]
  },
  {
   "cell_type": "code",
   "execution_count": 26,
   "id": "49595753",
   "metadata": {},
   "outputs": [],
   "source": [
    "from emoji import UNICODE_EMO"
   ]
  },
  {
   "cell_type": "code",
   "execution_count": 27,
   "id": "dc1c8bec",
   "metadata": {},
   "outputs": [
    {
     "name": "stdout",
     "output_type": "stream",
     "text": [
      "                                                text  \\\n",
      "0  @AppleSupport causing the reply to be disregar...   \n",
      "1  @105835 Your business means a lot to us. Pleas...   \n",
      "2  @76328 I really hope you all change but I'm su...   \n",
      "3  @105836 LiveChat is online at the moment - htt...   \n",
      "4  @VirginTrains see attached error message. I've...   \n",
      "\n",
      "                                          text_wo_RW  \\\n",
      "0  causing reply disregarded tapped notification ...   \n",
      "1  105835 business means lot name zip code additi...   \n",
      "2         76328 really hope change im sure wont dont   \n",
      "3  105836 livechat online moment httpstcosy94vtu8...   \n",
      "4  virgintrains see attached error message tried ...   \n",
      "\n",
      "                                           text_stem  \\\n",
      "0  caus repli disregard tap notif keyboard opened😡😡😡   \n",
      "1  105835 busi mean lot name zip code addit detai...   \n",
      "2          76328 realli hope chang im sure wont dont   \n",
      "3  105836 livechat onlin moment httpstcosy94vtu8k...   \n",
      "4  virgintrain see attach error messag tri leav v...   \n",
      "\n",
      "                                            text_lem  \\\n",
      "0  cause reply disregard tap notification keyboar...   \n",
      "1  105835 business mean lot name zip code additio...   \n",
      "2         76328 really hope change im sure wont dont   \n",
      "3  105836 livechat online moment httpstcosy94vtu8...   \n",
      "4  virgintrains see attach error message try leav...   \n",
      "\n",
      "                                    text_no_emoticon  \n",
      "0  cause reply disregard tap notification keyboar...  \n",
      "1  105835 business mean lot name zip code additio...  \n",
      "2         76328 really hope change im sure wont dont  \n",
      "3  105836 livechat online moment httpstcosy94vtu8...  \n",
      "4  virgintrains see attach error message try leav...  \n"
     ]
    }
   ],
   "source": [
    "df[\"text_no_emoticon\"] = df[\"text_lem\"].apply(lambda text: convert_emoticons(text))\n",
    "print(df.head())"
   ]
  },
  {
   "cell_type": "markdown",
   "id": "99757570",
   "metadata": {},
   "source": [
    "### Conversion of Emoji to Words"
   ]
  },
  {
   "cell_type": "code",
   "execution_count": 28,
   "id": "2d250704",
   "metadata": {},
   "outputs": [
    {
     "data": {
      "text/plain": [
       "'game is on fire'"
      ]
     },
     "execution_count": 28,
     "metadata": {},
     "output_type": "execute_result"
    }
   ],
   "source": [
    "def convert_emojis(text):\n",
    "    for emot in UNICODE_EMO:\n",
    "        text = re.sub(r'('+emot+')', \"_\".join(UNICODE_EMO[emot].replace(\",\",\"\").replace(\":\",\"\").split()), text)\n",
    "    return text\n",
    "\n",
    "text = \"game is on 🔥\"\n",
    "convert_emojis(text)"
   ]
  },
  {
   "cell_type": "code",
   "execution_count": 29,
   "id": "580488ad",
   "metadata": {},
   "outputs": [
    {
     "name": "stdout",
     "output_type": "stream",
     "text": [
      "                                                text  \\\n",
      "0  @AppleSupport causing the reply to be disregar...   \n",
      "1  @105835 Your business means a lot to us. Pleas...   \n",
      "2  @76328 I really hope you all change but I'm su...   \n",
      "3  @105836 LiveChat is online at the moment - htt...   \n",
      "4  @VirginTrains see attached error message. I've...   \n",
      "\n",
      "                                          text_wo_RW  \\\n",
      "0  causing reply disregarded tapped notification ...   \n",
      "1  105835 business means lot name zip code additi...   \n",
      "2         76328 really hope change im sure wont dont   \n",
      "3  105836 livechat online moment httpstcosy94vtu8...   \n",
      "4  virgintrains see attached error message tried ...   \n",
      "\n",
      "                                           text_stem  \\\n",
      "0  caus repli disregard tap notif keyboard opened😡😡😡   \n",
      "1  105835 busi mean lot name zip code addit detai...   \n",
      "2          76328 realli hope chang im sure wont dont   \n",
      "3  105836 livechat onlin moment httpstcosy94vtu8k...   \n",
      "4  virgintrain see attach error messag tri leav v...   \n",
      "\n",
      "                                            text_lem  \\\n",
      "0  cause reply disregard tap notification keyboar...   \n",
      "1  105835 business mean lot name zip code additio...   \n",
      "2         76328 really hope change im sure wont dont   \n",
      "3  105836 livechat online moment httpstcosy94vtu8...   \n",
      "4  virgintrains see attach error message try leav...   \n",
      "\n",
      "                                    text_no_emoticon  \\\n",
      "0  cause reply disregard tap notification keyboar...   \n",
      "1  105835 business mean lot name zip code additio...   \n",
      "2         76328 really hope change im sure wont dont   \n",
      "3  105836 livechat online moment httpstcosy94vtu8...   \n",
      "4  virgintrains see attach error message try leav...   \n",
      "\n",
      "                                       text_no_emoji  \n",
      "0  cause reply disregard tap notification keyboar...  \n",
      "1  105835 business mean lot name zip code additio...  \n",
      "2         76328 really hope change im sure wont dont  \n",
      "3  105836 livechat online moment httpstcosy94vtu8...  \n",
      "4  virgintrains see attach error message try leav...  \n"
     ]
    }
   ],
   "source": [
    "df[\"text_no_emoji\"] = df[\"text_no_emoticon\"].apply(lambda text: convert_emojis(text))\n",
    "print(df.head())"
   ]
  },
  {
   "cell_type": "code",
   "execution_count": 30,
   "id": "7c02fda0",
   "metadata": {
    "scrolled": true
   },
   "outputs": [
    {
     "name": "stdout",
     "output_type": "stream",
     "text": [
      "cause reply disregard tap notification keyboard openedpouting_facepouting_facepouting_face\n"
     ]
    }
   ],
   "source": [
    "print(df[\"text_no_emoji\"].iloc[0])"
   ]
  },
  {
   "cell_type": "markdown",
   "id": "46bbd511",
   "metadata": {},
   "source": [
    "Emoji is being replaced with words"
   ]
  },
  {
   "cell_type": "code",
   "execution_count": 31,
   "id": "7d057f1e",
   "metadata": {},
   "outputs": [
    {
     "name": "stdout",
     "output_type": "stream",
     "text": [
      "                                                text  \\\n",
      "0  @AppleSupport causing the reply to be disregar...   \n",
      "1  @105835 Your business means a lot to us. Pleas...   \n",
      "2  @76328 I really hope you all change but I'm su...   \n",
      "3  @105836 LiveChat is online at the moment - htt...   \n",
      "4  @VirginTrains see attached error message. I've...   \n",
      "\n",
      "                                       text_no_emoji  \n",
      "0  cause reply disregard tap notification keyboar...  \n",
      "1  105835 business mean lot name zip code additio...  \n",
      "2         76328 really hope change im sure wont dont  \n",
      "3  105836 livechat online moment httpstcosy94vtu8...  \n",
      "4  virgintrains see attach error message try leav...  \n"
     ]
    }
   ],
   "source": [
    "# remove previous columns\n",
    "df.drop([\"text_wo_RW\",\"text_stem\",\"text_lem\",\"text_no_emoticon\"], axis=1, inplace=True)\n",
    "print(df.head())"
   ]
  },
  {
   "cell_type": "markdown",
   "id": "87127784",
   "metadata": {},
   "source": [
    "### Removal of URLs"
   ]
  },
  {
   "cell_type": "code",
   "execution_count": 32,
   "id": "1fa9af55",
   "metadata": {},
   "outputs": [],
   "source": [
    "def remove_urls(text):\n",
    "    url_pattern = re.compile(r'https?://\\S+|www.\\S+')\n",
    "    return url_pattern.sub(r'',text)"
   ]
  },
  {
   "cell_type": "code",
   "execution_count": 33,
   "id": "aefa1262",
   "metadata": {},
   "outputs": [
    {
     "data": {
      "text/plain": [
       "'Driverless AI NLP blog post on '"
      ]
     },
     "execution_count": 33,
     "metadata": {},
     "output_type": "execute_result"
    }
   ],
   "source": [
    "# Example\n",
    "text = \"Driverless AI NLP blog post on https://www.h2o.ai/blog/detecting-sarcasm-is-difficult-but-ai-may-have-an-answer/\"\n",
    "remove_urls(text)"
   ]
  },
  {
   "cell_type": "code",
   "execution_count": 34,
   "id": "68c4d091",
   "metadata": {},
   "outputs": [
    {
     "data": {
      "text/plain": [
       "'Driverless AI NLP blog post on '"
      ]
     },
     "execution_count": 34,
     "metadata": {},
     "output_type": "execute_result"
    }
   ],
   "source": [
    "# Example\n",
    "text = \"Driverless AI NLP blog post on www.kaggle.com/\"\n",
    "remove_urls(text)"
   ]
  },
  {
   "cell_type": "markdown",
   "id": "ce252da8",
   "metadata": {},
   "source": [
    "### Chat Words Conversion\n",
    "People do use a lot of abbreviated words in chat and so it might be helpful to expand those words for our analysis purposes."
   ]
  },
  {
   "cell_type": "code",
   "execution_count": 35,
   "id": "2b7d5a54",
   "metadata": {},
   "outputs": [],
   "source": [
    "from chatwords import chat_words_str"
   ]
  },
  {
   "cell_type": "code",
   "execution_count": 36,
   "id": "62664157",
   "metadata": {},
   "outputs": [
    {
     "data": {
      "text/plain": [
       "'one minute Be Right Back'"
      ]
     },
     "execution_count": 36,
     "metadata": {},
     "output_type": "execute_result"
    }
   ],
   "source": [
    "chat_words_map_dict = {}\n",
    "chat_words_list = []\n",
    "\n",
    "for line in chat_words_str.split(\"\\n\"):\n",
    "    if line.strip():   # line.strip() method is used to remove leading and trailing whitespaces from each line \n",
    "        cw, cw_expanded = line.split(\"=\")\n",
    "        chat_words_list.append(cw)\n",
    "        chat_words_map_dict[cw] = cw_expanded\n",
    "chat_words_list = set(chat_words_list)\n",
    "\n",
    "def chat_words_conversion(text):\n",
    "    new_text = []\n",
    "    for w in text.split():\n",
    "        if w.upper() in chat_words_list:\n",
    "            new_text.append(chat_words_map_dict[w.upper()])\n",
    "        else:\n",
    "            new_text.append(w)\n",
    "    return \" \".join(new_text)\n",
    "\n",
    "chat_words_conversion(\"one minute BRB\")"
   ]
  },
  {
   "cell_type": "code",
   "execution_count": 37,
   "id": "d2ae2b4e",
   "metadata": {},
   "outputs": [
    {
     "data": {
      "text/plain": [
       "'Good Night See You'"
      ]
     },
     "execution_count": 37,
     "metadata": {},
     "output_type": "execute_result"
    }
   ],
   "source": [
    "chat_words_conversion(\"GN CYA\")"
   ]
  },
  {
   "cell_type": "code",
   "execution_count": 38,
   "id": "691b9251",
   "metadata": {},
   "outputs": [
    {
     "name": "stdout",
     "output_type": "stream",
     "text": [
      "                                                text  \\\n",
      "0  @AppleSupport causing the reply to be disregar...   \n",
      "1  @105835 Your business means a lot to us. Pleas...   \n",
      "2  @76328 I really hope you all change but I'm su...   \n",
      "3  @105836 LiveChat is online at the moment - htt...   \n",
      "4  @VirginTrains see attached error message. I've...   \n",
      "\n",
      "                                       text_no_emoji  \\\n",
      "0  cause reply disregard tap notification keyboar...   \n",
      "1  105835 business mean lot name zip code additio...   \n",
      "2         76328 really hope change im sure wont dont   \n",
      "3  105836 livechat online moment httpstcosy94vtu8...   \n",
      "4  virgintrains see attach error message try leav...   \n",
      "\n",
      "                                text_word_conversion  \n",
      "0  cause reply disregard tap notification keyboar...  \n",
      "1  105835 business mean lot name zip code additio...  \n",
      "2         76328 really hope change im sure wont dont  \n",
      "3  105836 livechat online moment httpstcosy94vtu8...  \n",
      "4  virgintrains see attach error message try leav...  \n"
     ]
    }
   ],
   "source": [
    "df[\"text_word_conversion\"] = df[\"text_no_emoji\"].apply(lambda text: chat_words_conversion(text))\n",
    "print(df.head())"
   ]
  },
  {
   "cell_type": "markdown",
   "id": "353e5b83",
   "metadata": {},
   "source": [
    "### Spelling Correction"
   ]
  },
  {
   "cell_type": "code",
   "execution_count": 39,
   "id": "1a3e0fe0",
   "metadata": {},
   "outputs": [
    {
     "data": {
      "text/plain": [
       "'spelling correction'"
      ]
     },
     "execution_count": 39,
     "metadata": {},
     "output_type": "execute_result"
    }
   ],
   "source": [
    "from spellchecker import SpellChecker\n",
    "\n",
    "spell = SpellChecker()\n",
    "\n",
    "def correctspelling(text):\n",
    "    corrected_text = []\n",
    "    misspelled_words = spell.unknown(text.split())\n",
    "    for word in text.split():\n",
    "        if word in misspelled_words:\n",
    "            corrected_text.append(spell.correction(word))\n",
    "        else:\n",
    "            corrected_text.append(word)\n",
    "    return \" \".join(corrected_text)\n",
    "\n",
    "text = \"speling correcton\"\n",
    "correctspelling(text)"
   ]
  },
  {
   "cell_type": "code",
   "execution_count": 40,
   "id": "372c70a0",
   "metadata": {},
   "outputs": [
    {
     "data": {
      "text/plain": [
       "'thanks for the cake'"
      ]
     },
     "execution_count": 40,
     "metadata": {},
     "output_type": "execute_result"
    }
   ],
   "source": [
    "correctspelling(\"thnks for the cke\")"
   ]
  },
  {
   "cell_type": "code",
   "execution_count": 41,
   "id": "2b03e7d2",
   "metadata": {},
   "outputs": [
    {
     "name": "stdout",
     "output_type": "stream",
     "text": [
      "                                                text  \\\n",
      "0  @AppleSupport causing the reply to be disregar...   \n",
      "1  @105835 Your business means a lot to us. Pleas...   \n",
      "2  @76328 I really hope you all change but I'm su...   \n",
      "3  @105836 LiveChat is online at the moment - htt...   \n",
      "4  @VirginTrains see attached error message. I've...   \n",
      "\n",
      "                                       text_no_emoji  \\\n",
      "0  cause reply disregard tap notification keyboar...   \n",
      "1  105835 business mean lot name zip code additio...   \n",
      "2         76328 really hope change im sure wont dont   \n",
      "3  105836 livechat online moment httpstcosy94vtu8...   \n",
      "4  virgintrains see attach error message try leav...   \n",
      "\n",
      "                                text_word_conversion  \\\n",
      "0  cause reply disregard tap notification keyboar...   \n",
      "1  105835 business mean lot name zip code additio...   \n",
      "2         76328 really hope change im sure wont dont   \n",
      "3  105836 livechat online moment httpstcosy94vtu8...   \n",
      "4  virgintrains see attach error message try leav...   \n",
      "\n",
      "                                          text_final  \n",
      "0  cause reply disregard tap notification keyboar...  \n",
      "1  105835 business mean lot name zip code additio...  \n",
      "2         76328 really hope change im sure wont dont  \n",
      "3  105836 livechat online moment httpstcosy94vtu8...  \n",
      "4  virgintrains see attach error message try leav...  \n"
     ]
    }
   ],
   "source": [
    "df[\"text_final\"] = df[\"text_word_conversion\"].apply(lambda text: chat_words_conversion(text))\n",
    "print(df.head())"
   ]
  },
  {
   "cell_type": "code",
   "execution_count": 42,
   "id": "9962cd1c",
   "metadata": {
    "scrolled": true
   },
   "outputs": [
    {
     "data": {
      "text/html": [
       "<div>\n",
       "<style scoped>\n",
       "    .dataframe tbody tr th:only-of-type {\n",
       "        vertical-align: middle;\n",
       "    }\n",
       "\n",
       "    .dataframe tbody tr th {\n",
       "        vertical-align: top;\n",
       "    }\n",
       "\n",
       "    .dataframe thead th {\n",
       "        text-align: right;\n",
       "    }\n",
       "</style>\n",
       "<table border=\"1\" class=\"dataframe\">\n",
       "  <thead>\n",
       "    <tr style=\"text-align: right;\">\n",
       "      <th></th>\n",
       "      <th>text</th>\n",
       "      <th>text_final</th>\n",
       "    </tr>\n",
       "  </thead>\n",
       "  <tbody>\n",
       "    <tr>\n",
       "      <th>0</th>\n",
       "      <td>@AppleSupport causing the reply to be disregar...</td>\n",
       "      <td>cause reply disregard tap notification keyboar...</td>\n",
       "    </tr>\n",
       "    <tr>\n",
       "      <th>1</th>\n",
       "      <td>@105835 Your business means a lot to us. Pleas...</td>\n",
       "      <td>105835 business mean lot name zip code additio...</td>\n",
       "    </tr>\n",
       "    <tr>\n",
       "      <th>2</th>\n",
       "      <td>@76328 I really hope you all change but I'm su...</td>\n",
       "      <td>76328 really hope change im sure wont dont</td>\n",
       "    </tr>\n",
       "    <tr>\n",
       "      <th>3</th>\n",
       "      <td>@105836 LiveChat is online at the moment - htt...</td>\n",
       "      <td>105836 livechat online moment httpstcosy94vtu8...</td>\n",
       "    </tr>\n",
       "    <tr>\n",
       "      <th>4</th>\n",
       "      <td>@VirginTrains see attached error message. I've...</td>\n",
       "      <td>virgintrains see attach error message try leav...</td>\n",
       "    </tr>\n",
       "    <tr>\n",
       "      <th>...</th>\n",
       "      <td>...</td>\n",
       "      <td>...</td>\n",
       "    </tr>\n",
       "    <tr>\n",
       "      <th>88</th>\n",
       "      <td>@105860 I wish Amazon had an option of where I...</td>\n",
       "      <td>105860 wish amazon option get ship up store av...</td>\n",
       "    </tr>\n",
       "    <tr>\n",
       "      <th>89</th>\n",
       "      <td>They reschedule my shit for tomorrow https://t...</td>\n",
       "      <td>reschedule shit tomorrow httpstcorsvzct982t</td>\n",
       "    </tr>\n",
       "    <tr>\n",
       "      <th>90</th>\n",
       "      <td>@105861 Hey Sara, sorry to hear of the issues ...</td>\n",
       "      <td>105861 hey sara sorry hear issue ask lay speed...</td>\n",
       "    </tr>\n",
       "    <tr>\n",
       "      <th>91</th>\n",
       "      <td>@Tesco bit of both - finding the layout cumber...</td>\n",
       "      <td>tesco bit find layout cumbersome remove item f...</td>\n",
       "    </tr>\n",
       "    <tr>\n",
       "      <th>92</th>\n",
       "      <td>@105861 If that doesn't help please DM your fu...</td>\n",
       "      <td>105861 doesnt full name address email device 22</td>\n",
       "    </tr>\n",
       "  </tbody>\n",
       "</table>\n",
       "<p>93 rows × 2 columns</p>\n",
       "</div>"
      ],
      "text/plain": [
       "                                                 text  \\\n",
       "0   @AppleSupport causing the reply to be disregar...   \n",
       "1   @105835 Your business means a lot to us. Pleas...   \n",
       "2   @76328 I really hope you all change but I'm su...   \n",
       "3   @105836 LiveChat is online at the moment - htt...   \n",
       "4   @VirginTrains see attached error message. I've...   \n",
       "..                                                ...   \n",
       "88  @105860 I wish Amazon had an option of where I...   \n",
       "89  They reschedule my shit for tomorrow https://t...   \n",
       "90  @105861 Hey Sara, sorry to hear of the issues ...   \n",
       "91  @Tesco bit of both - finding the layout cumber...   \n",
       "92  @105861 If that doesn't help please DM your fu...   \n",
       "\n",
       "                                           text_final  \n",
       "0   cause reply disregard tap notification keyboar...  \n",
       "1   105835 business mean lot name zip code additio...  \n",
       "2          76328 really hope change im sure wont dont  \n",
       "3   105836 livechat online moment httpstcosy94vtu8...  \n",
       "4   virgintrains see attach error message try leav...  \n",
       "..                                                ...  \n",
       "88  105860 wish amazon option get ship up store av...  \n",
       "89        reschedule shit tomorrow httpstcorsvzct982t  \n",
       "90  105861 hey sara sorry hear issue ask lay speed...  \n",
       "91  tesco bit find layout cumbersome remove item f...  \n",
       "92    105861 doesnt full name address email device 22  \n",
       "\n",
       "[93 rows x 2 columns]"
      ]
     },
     "execution_count": 42,
     "metadata": {},
     "output_type": "execute_result"
    }
   ],
   "source": [
    "df.drop([\"text_no_emoji\",\"text_word_conversion\"],axis =1, inplace=True)\n",
    "df"
   ]
  },
  {
   "cell_type": "code",
   "execution_count": 43,
   "id": "6d08ccde",
   "metadata": {},
   "outputs": [],
   "source": [
    "df.to_csv(\"final.csv\")"
   ]
  },
  {
   "cell_type": "code",
   "execution_count": null,
   "id": "50f4ac50",
   "metadata": {},
   "outputs": [],
   "source": []
  }
 ],
 "metadata": {
  "kernelspec": {
   "display_name": "Python 3 (ipykernel)",
   "language": "python",
   "name": "python3"
  },
  "language_info": {
   "codemirror_mode": {
    "name": "ipython",
    "version": 3
   },
   "file_extension": ".py",
   "mimetype": "text/x-python",
   "name": "python",
   "nbconvert_exporter": "python",
   "pygments_lexer": "ipython3",
   "version": "3.11.5"
  }
 },
 "nbformat": 4,
 "nbformat_minor": 5
}
